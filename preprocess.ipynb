{
 "cells": [
  {
   "cell_type": "code",
   "execution_count": null,
   "metadata": {
    "collapsed": true
   },
   "outputs": [],
   "source": [
    "import string, re\n",
    "import os.path,os"
   ]
  },
  {
   "cell_type": "code",
   "execution_count": null,
   "metadata": {
    "collapsed": true
   },
   "outputs": [],
   "source": [
    "import logging\n",
    "logging.basicConfig(format='%(asctime)s : %(levelname)s : %(message)s', level=logging.INFO)"
   ]
  },
  {
   "cell_type": "code",
   "execution_count": null,
   "metadata": {
    "collapsed": true
   },
   "outputs": [],
   "source": [
    "def prep(text):\n",
    "    text = text.lower()\n",
    "    return text+'\\n'"
   ]
  },
  {
   "cell_type": "code",
   "execution_count": null,
   "metadata": {
    "collapsed": true
   },
   "outputs": [],
   "source": [
    "def cleanify_non_ascii(PATH):\n",
    "    '''Generates newtweets.txt in the same directory. Filters non-ascii chars. Didn't remove #'''\n",
    "    strings = []\n",
    "    #get all tweets in this list \n",
    "    printable = set(string.printable)\n",
    "    \n",
    "    fout = open(os.path.join(PATH,'newtweets.txt'),'w')\n",
    "    i = 0\n",
    "    for each in strings:\n",
    "        try:\n",
    "            each = prep(each)\n",
    "            fout.write(each.encode('utf-8'))\n",
    "        except: \n",
    "            logging.warning('Filtering out non-unicode characters')\n",
    "            filtered = filter(lambda x: x in printable,each)\n",
    "            filtered = prep(filtered)\n",
    "            fout.write(filtered.encode('utf-8'))\n",
    "        i += 1\n",
    "    fout.close()"
   ]
  },
  {
   "cell_type": "code",
   "execution_count": null,
   "metadata": {
    "collapsed": true
   },
   "outputs": [],
   "source": []
  }
 ],
 "metadata": {
  "kernelspec": {
   "display_name": "Python 2",
   "language": "python",
   "name": "python2"
  },
  "language_info": {
   "codemirror_mode": {
    "name": "ipython",
    "version": 2
   },
   "file_extension": ".py",
   "mimetype": "text/x-python",
   "name": "python",
   "nbconvert_exporter": "python",
   "pygments_lexer": "ipython2",
   "version": "2.7.12"
  }
 },
 "nbformat": 4,
 "nbformat_minor": 2
}
