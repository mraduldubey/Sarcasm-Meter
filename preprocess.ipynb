{
 "cells": [
  {
   "cell_type": "markdown",
   "metadata": {},
   "source": [
    "## Preprocessing the Tweets\n",
    "\n",
    "\n",
    "Before extracting features from our text data it is important to clean it up. To remove the possibility of having sarcastic tweets in which the sarcasm is either in an attached link or in response to another tweet, we simply discard all tweets that have http addresses in them and all tweets that start with the @ symbol. Ideally we would only collect tweets that are written in English. When we collect sarcastic tweets, the requirement that it contains the label #sarcasm makes it very likely that the tweet will be in English. To maximize the number of English tweets when we collect non-sarcastic tweets, we require that the location of the tweet is either San-Francisco or New-York. In addition to these steps, we remove tweets which contain Non-ASCII characters. We then remove all the hashtags, all the friend tags and all mentions of the word sarcasm or sarcastic from the remaining tweets. If after this pruning stage the tweet is at least 3 words long, we add it to our dataset. We add this last requirement in order to remove some noise from the sarcastic dataset since I do not believe that one can be sarcastic with only 2 words. Finally, we remove duplicates."
   ]
  },
  {
   "cell_type": "code",
   "execution_count": null,
   "metadata": {
    "collapsed": true
   },
   "outputs": [],
   "source": [
    "import string, re\n",
    "import os.path,os"
   ]
  },
  {
   "cell_type": "code",
   "execution_count": null,
   "metadata": {
    "collapsed": true
   },
   "outputs": [],
   "source": [
    "import logging\n",
    "logging.basicConfig(format='%(asctime)s : %(levelname)s : %(message)s', level=logging.INFO)"
   ]
  },
  {
   "cell_type": "code",
   "execution_count": null,
   "metadata": {
    "collapsed": true
   },
   "outputs": [],
   "source": [
    "def prep(text):\n",
    "    text = text.lower()\n",
    "    return text+'\\n'"
   ]
  },
  {
   "cell_type": "code",
   "execution_count": null,
   "metadata": {
    "collapsed": true
   },
   "outputs": [],
   "source": [
    "def cleanify_non_ascii(PATH):\n",
    "    '''Generates newtweets.txt in the same directory. Filters non-ascii chars. Didn't remove #'''\n",
    "    strings = []\n",
    "    #get all tweets in this list \n",
    "    printable = set(string.printable)\n",
    "    \n",
    "    fout = open(os.path.join(PATH,'newtweets.txt'),'w')\n",
    "    i = 0\n",
    "    for each in strings:\n",
    "        try:\n",
    "            each = prep(each)\n",
    "            fout.write(each.encode('utf-8'))\n",
    "        except: \n",
    "            logging.warning('Filtering out non-unicode characters')\n",
    "            filtered = filter(lambda x: x in printable,each)\n",
    "            filtered = prep(filtered)\n",
    "            fout.write(filtered.encode('utf-8'))\n",
    "        i += 1\n",
    "    fout.close()"
   ]
  },
  {
   "cell_type": "code",
   "execution_count": null,
   "metadata": {
    "collapsed": true
   },
   "outputs": [],
   "source": []
  }
 ],
 "metadata": {
  "kernelspec": {
   "display_name": "Python 2",
   "language": "python",
   "name": "python2"
  },
  "language_info": {
   "codemirror_mode": {
    "name": "ipython",
    "version": 2
   },
   "file_extension": ".py",
   "mimetype": "text/x-python",
   "name": "python",
   "nbconvert_exporter": "python",
   "pygments_lexer": "ipython2",
   "version": "2.7.12"
  }
 },
 "nbformat": 4,
 "nbformat_minor": 2
}
